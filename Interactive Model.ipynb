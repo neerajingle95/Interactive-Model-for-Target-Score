{
 "cells": [
  {
   "cell_type": "markdown",
   "id": "25521903",
   "metadata": {},
   "source": [
    "# 1. Imports & load dataset"
   ]
  },
  {
   "cell_type": "code",
   "execution_count": 1,
   "id": "6ade18d2",
   "metadata": {},
   "outputs": [
    {
     "data": {
      "text/html": [
       "<style>.container { width:100% !important; }</style>"
      ],
      "text/plain": [
       "<IPython.core.display.HTML object>"
      ]
     },
     "metadata": {},
     "output_type": "display_data"
    }
   ],
   "source": [
    "import pandas as pd\n",
    "import numpy as np\n",
    "%matplotlib inline\n",
    "import matplotlib.pyplot as plt\n",
    "from ipywidgets import interactive\n",
    "import ipywidgets as widgets\n",
    "\n",
    "import warnings\n",
    "warnings.filterwarnings('ignore')\n",
    "\n",
    "pd.set_option('display.max_rows', None)\n",
    "pd.set_option('display.max_columns', None)  \n",
    "pd.set_option('display.expand_frame_repr', False)\n",
    "pd.set_option('max_colwidth', -1)\n",
    "\n",
    "from IPython.display import display, HTML\n",
    "display(HTML(\"<style>.container { width:100% !important; }</style>\"))"
   ]
  },
  {
   "cell_type": "code",
   "execution_count": 2,
   "id": "725fe781",
   "metadata": {},
   "outputs": [],
   "source": [
    "ipl_df = pd.read_csv('C:/Users/neera/Mad About Sports/Advanced Cricket Analytics Masterclass/Datasets/IPL_ball_by_ball_updated.csv')"
   ]
  },
  {
   "cell_type": "markdown",
   "id": "3567859c",
   "metadata": {},
   "source": [
    "# 2. Examining the data"
   ]
  },
  {
   "cell_type": "code",
   "execution_count": 3,
   "id": "ee340e27",
   "metadata": {},
   "outputs": [
    {
     "data": {
      "text/html": [
       "<div>\n",
       "<style scoped>\n",
       "    .dataframe tbody tr th:only-of-type {\n",
       "        vertical-align: middle;\n",
       "    }\n",
       "\n",
       "    .dataframe tbody tr th {\n",
       "        vertical-align: top;\n",
       "    }\n",
       "\n",
       "    .dataframe thead th {\n",
       "        text-align: right;\n",
       "    }\n",
       "</style>\n",
       "<table border=\"1\" class=\"dataframe\">\n",
       "  <thead>\n",
       "    <tr style=\"text-align: right;\">\n",
       "      <th></th>\n",
       "      <th>match_id</th>\n",
       "      <th>season</th>\n",
       "      <th>start_date</th>\n",
       "      <th>venue</th>\n",
       "      <th>innings</th>\n",
       "      <th>ball</th>\n",
       "      <th>batting_team</th>\n",
       "      <th>bowling_team</th>\n",
       "      <th>striker</th>\n",
       "      <th>non_striker</th>\n",
       "      <th>bowler</th>\n",
       "      <th>runs_off_bat</th>\n",
       "      <th>extras</th>\n",
       "      <th>wides</th>\n",
       "      <th>noballs</th>\n",
       "      <th>byes</th>\n",
       "      <th>legbyes</th>\n",
       "      <th>penalty</th>\n",
       "      <th>wicket_type</th>\n",
       "      <th>player_dismissed</th>\n",
       "      <th>other_wicket_type</th>\n",
       "      <th>other_player_dismissed</th>\n",
       "    </tr>\n",
       "  </thead>\n",
       "  <tbody>\n",
       "    <tr>\n",
       "      <th>0</th>\n",
       "      <td>335982</td>\n",
       "      <td>2008</td>\n",
       "      <td>2008-04-18</td>\n",
       "      <td>M Chinnaswamy Stadium</td>\n",
       "      <td>2</td>\n",
       "      <td>6.8</td>\n",
       "      <td>Royal Challengers Bangalore</td>\n",
       "      <td>Kolkata Knight Riders</td>\n",
       "      <td>MV Boucher</td>\n",
       "      <td>CL White</td>\n",
       "      <td>AB Agarkar</td>\n",
       "      <td>4</td>\n",
       "      <td>0</td>\n",
       "      <td>NaN</td>\n",
       "      <td>NaN</td>\n",
       "      <td>NaN</td>\n",
       "      <td>NaN</td>\n",
       "      <td>NaN</td>\n",
       "      <td>NaN</td>\n",
       "      <td>NaN</td>\n",
       "      <td>NaN</td>\n",
       "      <td>NaN</td>\n",
       "    </tr>\n",
       "    <tr>\n",
       "      <th>1</th>\n",
       "      <td>335982</td>\n",
       "      <td>2008</td>\n",
       "      <td>2008-04-18</td>\n",
       "      <td>M Chinnaswamy Stadium</td>\n",
       "      <td>2</td>\n",
       "      <td>2.7</td>\n",
       "      <td>Royal Challengers Bangalore</td>\n",
       "      <td>Kolkata Knight Riders</td>\n",
       "      <td>W Jaffer</td>\n",
       "      <td>JH Kallis</td>\n",
       "      <td>AB Dinda</td>\n",
       "      <td>1</td>\n",
       "      <td>0</td>\n",
       "      <td>NaN</td>\n",
       "      <td>NaN</td>\n",
       "      <td>NaN</td>\n",
       "      <td>NaN</td>\n",
       "      <td>NaN</td>\n",
       "      <td>NaN</td>\n",
       "      <td>NaN</td>\n",
       "      <td>NaN</td>\n",
       "      <td>NaN</td>\n",
       "    </tr>\n",
       "  </tbody>\n",
       "</table>\n",
       "</div>"
      ],
      "text/plain": [
       "   match_id  season  start_date                  venue  innings  ball                 batting_team           bowling_team     striker non_striker      bowler  runs_off_bat  extras  wides  noballs  byes  legbyes  penalty wicket_type player_dismissed  other_wicket_type  other_player_dismissed\n",
       "0  335982    2008    2008-04-18  M Chinnaswamy Stadium  2        6.8   Royal Challengers Bangalore  Kolkata Knight Riders  MV Boucher  CL White    AB Agarkar  4             0      NaN    NaN      NaN   NaN      NaN       NaN         NaN             NaN                NaN                    \n",
       "1  335982    2008    2008-04-18  M Chinnaswamy Stadium  2        2.7   Royal Challengers Bangalore  Kolkata Knight Riders  W Jaffer    JH Kallis   AB Dinda    1             0      NaN    NaN      NaN   NaN      NaN       NaN         NaN             NaN                NaN                    "
      ]
     },
     "execution_count": 3,
     "metadata": {},
     "output_type": "execute_result"
    }
   ],
   "source": [
    "ipl_df.head(2)"
   ]
  },
  {
   "cell_type": "code",
   "execution_count": 4,
   "id": "1db1d091",
   "metadata": {},
   "outputs": [
    {
     "data": {
      "text/plain": [
       "array(['Royal Challengers Bangalore', 'Kolkata Knight Riders',\n",
       "       'Rajasthan Royals', 'Delhi Daredevils', 'Kings XI Punjab',\n",
       "       'Chennai Super Kings', 'Deccan Chargers', 'Mumbai Indians',\n",
       "       'Kochi Tuskers Kerala', 'Pune Warriors', 'Sunrisers Hyderabad',\n",
       "       'Rising Pune Supergiants', 'Gujarat Lions',\n",
       "       'Rising Pune Supergiant', 'Delhi Capitals', 'Punjab Kings',\n",
       "       'Gujarat Titans', 'Lucknow Super Giants'], dtype=object)"
      ]
     },
     "execution_count": 4,
     "metadata": {},
     "output_type": "execute_result"
    }
   ],
   "source": [
    "ipl_df['batting_team'].unique()"
   ]
  },
  {
   "cell_type": "code",
   "execution_count": 5,
   "id": "1a893433",
   "metadata": {},
   "outputs": [
    {
     "data": {
      "text/plain": [
       "array([2, 1, 4, 3, 6, 5], dtype=int64)"
      ]
     },
     "execution_count": 5,
     "metadata": {},
     "output_type": "execute_result"
    }
   ],
   "source": [
    "ipl_df['innings'].unique()"
   ]
  },
  {
   "cell_type": "code",
   "execution_count": 6,
   "id": "a638dd3d",
   "metadata": {},
   "outputs": [],
   "source": [
    "# Not considering super overs (innings 3 to 6)\n",
    "ipl_df = ipl_df[(ipl_df.innings == 1) | (ipl_df.innings == 2)]"
   ]
  },
  {
   "cell_type": "code",
   "execution_count": 7,
   "id": "3eed43d4",
   "metadata": {},
   "outputs": [
    {
     "data": {
      "text/plain": [
       "array([2, 1], dtype=int64)"
      ]
     },
     "execution_count": 7,
     "metadata": {},
     "output_type": "execute_result"
    }
   ],
   "source": [
    "ipl_df['innings'].unique()"
   ]
  },
  {
   "cell_type": "markdown",
   "id": "23f9858d",
   "metadata": {},
   "source": [
    "# 3. Additional columns\n",
    "## 3.1 Total runs in each ball"
   ]
  },
  {
   "cell_type": "code",
   "execution_count": 8,
   "id": "509eba6e",
   "metadata": {},
   "outputs": [],
   "source": [
    "ipl_df['total_runs'] = ipl_df.apply(lambda x: x['runs_off_bat'] + x['extras'], axis = 1)"
   ]
  },
  {
   "cell_type": "markdown",
   "id": "02da8168",
   "metadata": {},
   "source": [
    "## 3.2 Is there a wicket in that ball"
   ]
  },
  {
   "cell_type": "code",
   "execution_count": 9,
   "id": "b06cfcbb",
   "metadata": {},
   "outputs": [
    {
     "data": {
      "text/plain": [
       "array([nan, 'JH Kallis', 'W Jaffer', 'V Kohli', 'R Dravid', 'Z Khan',\n",
       "       'SB Joshi', 'AA Noffke', 'MV Boucher', 'B Akhil', 'CL White',\n",
       "       'SC Ganguly', 'DJ Hussey', 'RT Ponting', 'M Kaif', 'DS Lehmann',\n",
       "       'M Rawat', 'RA Jadeja', 'SR Watson', 'YK Pathan', 'T Kohli',\n",
       "       'SK Warne', 'V Sehwag', 'KC Sangakkara', 'SK Raina', 'JDP Oram',\n",
       "       'PA Patel', 'MS Dhoni', 'ML Hayden', 'JR Hopes', 'Yuvraj Singh',\n",
       "       'K Goel', 'SB Styris', 'SB Bangar', 'WPUJC Vaas', 'A Symonds',\n",
       "       'AS Yadav', 'Y Venugopal Rao', 'PP Ojha', 'VVS Laxman',\n",
       "       'RG Sharma', 'AC Gilchrist', 'Mohammad Hafeez', 'WP Saha',\n",
       "       'BB McCullum', 'PR Shah', 'AM Nayar', 'RV Uthappa', 'DJ Thornely',\n",
       "       'L Ronchi', 'ST Jayasuriya', 'LRPL Taylor', 'SM Pollock',\n",
       "       'S Chanderpaul', 'Kamran Akmal', 'DPMD Jayawardene', 'IK Pathan',\n",
       "       'S Sohal', 'B Lee', 'G Gambhir', 'Shahid Afridi', 'MA Khote',\n",
       "       'Harbhajan Singh', 'DJ Bravo', 'MEK Hussey', 'GC Smith',\n",
       "       'D Salunkhe', 'SS Tiwary', 'S Sreesanth', 'VRV Singh', 'PP Chawla',\n",
       "       'RR Sarwan', 'M Kartik', 'AB Agarkar', 'LR Shukla', 'P Kumar',\n",
       "       'R Bhatia', 'MF Maharoof', 'MK Tiwary', 'Shoaib Malik',\n",
       "       'KD Karthik', 'SM Katich', 'TM Srivastava', 'AM Rahane',\n",
       "       'S Dhawan', 'B Chipli', 'DW Steyn', 'MK Pandey', 'DB Das',\n",
       "       'SA Asnodkar', 'AB Dinda', 'Umar Gul', 'Salman Butt', 'BJ Hodge',\n",
       "       'D Kalyankrishna', 'DNT Zoysa', 'HH Gibbs', 'JA Morkel',\n",
       "       'SP Fleming', 'S Vidyut', 'SE Marsh', 'Misbah-ul-Haq',\n",
       "       'Joginder Sharma', 'Mohammad Asif', 'PJ Sangwan', 'GD McGrath',\n",
       "       'S Badrinath', 'M Ntini', 'M Muralitharan', 'YV Takawale',\n",
       "       'AB de Villiers', 'A Kumble', 'DT Patil', 'S Anirudha',\n",
       "       'SK Trivedi', 'Sohail Tanvir', 'T Taibu', 'CK Kapugedera',\n",
       "       'A Chopra', 'J Arunkumar', 'RP Singh', 'DB Ravi Teja',\n",
       "       'AD Mascarenhas', 'A Mishra', 'R Vinay Kumar', 'TM Dilshan',\n",
       "       'VY Mahesh', 'SR Tendulkar', 'Shoaib Akhtar', 'I Sharma',\n",
       "       'LPC Silva', 'H Das', 'SP Goswami', 'SD Chitnis', 'A Nehra',\n",
       "       'VS Yeligati', 'DR Smith', 'MS Gony', 'L Balaji', 'LA Pomersbach',\n",
       "       'A Nel', 'A Mukund', 'Younis Khan', 'Niraj Patel', 'WA Mota',\n",
       "       'Kamran Khan', 'KP Pietersen', 'JD Ryder', 'T Henderson',\n",
       "       'MM Patel', 'JP Duminy', 'A Flintoff', 'MC Henriques', 'RS Bopara',\n",
       "       'CH Gayle', 'R Bishnoi', 'KV Sharma', 'RJ Quiney', 'PC Valthaty',\n",
       "       'Yashpal Singh', 'Pankaj Singh', 'FH Edwards', 'AS Raut',\n",
       "       'BAW Mendis', 'AN Ghosh', 'DL Vettori', 'RR Powar',\n",
       "       'RE van der Merwe', 'TL Suman', 'Shoaib Ahmed', 'AA Bilakhia',\n",
       "       'GR Napier', 'MN van Wyk', 'SB Jakati', 'M Vijay', 'M Manhas',\n",
       "       'DA Warner', 'LA Carseldine', 'NV Ojha', 'RJ Harris', 'D du Preez',\n",
       "       'DS Kulkarni', 'RR Raje', 'M Morkel', 'AD Mathews', 'S Tyagi',\n",
       "       'C Nanda', 'SL Malinga', 'A Singh', 'J Botha', 'GJ Bailey',\n",
       "       'Y Nagar', 'AB McDonald', 'T Thushara', 'R Ashwin', 'SS Shaikh',\n",
       "       'Mohammad Ashraful', 'Anirudh Singh', 'CA Pujara', 'MS Bisla',\n",
       "       'P Dogra', 'R Sathish', 'AT Rayudu', 'A Uniyal', 'AP Tare',\n",
       "       'AA Jhunjhunwala', 'JM Kemp', 'EJG Morgan', 'SE Bond',\n",
       "       'RS Gavaskar', 'OA Shah', 'KA Pollard', 'DP Nannes', 'DR Martyn',\n",
       "       'S Narwal', 'MJ Lumb', 'AB Barath', 'FY Fazal', 'J Theron',\n",
       "       'MD Mishra', 'S Ladda', 'SJ Srivastava', 'R Sharma',\n",
       "       'Mandeep Singh', 'KAJ Roach', 'Jaskaran Singh', 'AC Voges',\n",
       "       'CK Langeveldt', 'PD Collingwood', 'VS Malik', 'SW Tait',\n",
       "       'KM Jadhav', 'A Mithun', 'Harmeet Singh', 'AP Dole', 'R McLaren',\n",
       "       'S Sriram', 'KP Appanna', 'C Madan', 'AG Paunikar', 'MR Marsh',\n",
       "       'AJ Finch', 'STR Binny', 'B Sumanth', 'RV Gomez', 'MA Agarwal',\n",
       "       'IR Jaggi', 'DT Christian', 'Sunny Singh', 'UT Yadav', 'UBT Chand',\n",
       "       'DJ Jacobs', 'AUK Pathan', 'AL Menaria', 'WD Parnell',\n",
       "       'JJ van der Wath', 'R Ninan', 'MS Wade', 'Shakib Al Hasan',\n",
       "       'SB Wagh', 'TD Paine', 'JEC Franklin', 'S Randiv', 'BJ Haddin',\n",
       "       'NLTC Perera', 'NL McCullum', 'JE Taylor', 'TR Birt',\n",
       "       'RN ten Doeschate', 'M Klinger', 'Harpreet Singh', 'Bipul Sharma',\n",
       "       'AC Blizzard', 'S Nadeem', 'CA Ingram', 'DH Yagnik',\n",
       "       'KB Arun Karthik', 'ND Doshi', 'AA Chavan', 'CJ Ferguson',\n",
       "       'Y Gnaneswara Rao', 'S Rana', 'BA Bhatt', 'DE Bollinger',\n",
       "       'RE Levi', 'F du Plessis', 'SPD Smith', 'B Kumar', 'MN Samuels',\n",
       "       'SA Yadav', 'Ankit Sharma', 'DJ Harris', 'GJ Maxwell', 'HV Patel',\n",
       "       'JP Faulkner', 'SP Narine', 'KK Cooper', 'GB Hogg', 'RR Bhatkal',\n",
       "       'CJ McKay', 'N Saini', 'DA Miller', 'P Negi', 'Azhar Mahmood',\n",
       "       'AC Thomas', 'RJ Peterson', 'A Ashish Reddy', 'V Pratap Singh',\n",
       "       'MJ Clarke', 'Gurkeerat Singh', 'VR Aaron', 'PA Reddy',\n",
       "       'AP Majumdar', 'AD Russell', 'CA Lynn', 'Sunny Gupta', 'MC Juneja',\n",
       "       'KK Nair', 'GH Vihari', 'B Laughlin', 'MDKJ Perera',\n",
       "       'Mohammed Shami', 'BMAJ Mendis', 'M Vohra', 'R Rampaul', 'P Awana',\n",
       "       'BJ Rohrer', 'SMSM Senanayake', 'J Syed Mohammad', 'KL Rahul',\n",
       "       'MG Johnson', 'R Dhawan', 'BB Samantray', 'Q de Kock', 'LJ Wright',\n",
       "       'IC Pandey', 'AG Murtaza', 'X Thalaivan Sargunam', 'DJG Sammy',\n",
       "       'SV Samson', 'KW Richardson', 'CH Morris', 'MM Sharma',\n",
       "       'CM Gautam', 'Parvez Rasool', 'UA Birla', 'Sachin Baby',\n",
       "       'NM Coulter-Nile', 'CJ Anderson', 'NJ Maddinson', 'AR Patel',\n",
       "       'JDS Neesham', 'PV Tambe', 'TG Southee', 'MA Starc', 'BR Dunk',\n",
       "       'RR Rossouw', 'Shivam Sharma', 'LMP Simmons', 'VH Zol', 'R Shukla',\n",
       "       'Imran Tahir', 'BCJ Cutting', 'BE Hendricks', 'R Tewatia',\n",
       "       'S Gopal', 'M de Lange', 'JO Holder', 'JD Unadkat', 'SS Iyer',\n",
       "       'DJ Hooda', 'SA Abbott', 'AN Ahmed', 'KS Williamson',\n",
       "       'Iqbal Abdulla', 'D Wiese', 'SN Khan', 'MJ McClenaghan',\n",
       "       'HH Pandya', 'Anureet Singh', 'DJ Muthuswami', 'PJ Cummins',\n",
       "       'Sandeep Sharma', 'Karanveer Singh', 'J Suchith', 'JC Buttler',\n",
       "       'CR Brathwaite', 'MP Stoinis', 'Ishan Kishan', 'C Munro',\n",
       "       'AD Nath', 'MJ Guptill', 'P Sahu', 'TM Head', 'M Ashwin',\n",
       "       'NS Naik', 'KH Pandya', 'RR Pant', 'SW Billings', 'PSP Handscomb',\n",
       "       'KC Cariappa', 'Swapnil Singh', 'UT Khawaja', 'J Yadav', 'HM Amla',\n",
       "       'JJ Bumrah', 'A Zampa', 'N Rana', 'S Kaushik', 'F Behardien',\n",
       "       'KJ Abbott', 'ER Dwivedi', 'CJ Jordan', 'S Aravind', 'TS Mills',\n",
       "       'YS Chahal', 'BA Stokes', 'JJ Roy', 'Vishnu Vinod', 'CR Woakes',\n",
       "       'RA Tripathi', 'DL Chahar', 'Rashid Khan', 'V Shankar',\n",
       "       'SN Thakur', 'C de Grandhomme', 'AF Milne', 'S Badree',\n",
       "       'Mohammad Nabi', 'K Rabada', 'AJ Tye', 'Kuldeep Yadav',\n",
       "       'SP Jackson', 'Ankit Soni', 'A Choudhary', 'AS Rajpoot',\n",
       "       'Washington Sundar', 'MA Wood', 'E Lewis', 'RK Singh', 'DJM Short',\n",
       "       'K Gowtham', 'S Kaul', 'Mujeeb Ur Rahman', 'Shubman Gill',\n",
       "       'Shivam Mavi', 'TK Curran', 'TA Boult', 'H Klaasen', 'JC Archer',\n",
       "       'RK Bhui', 'PP Shaw', 'LE Plunkett', 'M Markande',\n",
       "       'Mustafizur Rahman', 'Basil Thampi', 'BB Sran', 'AD Hales',\n",
       "       'MK Lomror', 'DR Shorey', 'Mohammed Siraj', 'MM Ali', 'P Chopra',\n",
       "       'IS Sodhi', 'Abhishek Sharma', 'JPR Scantlebury-Searles',\n",
       "       'SO Hetmyer', 'S Dube', 'NA Saini', 'KMA Paul', 'JM Bairstow',\n",
       "       'N Pooran', 'P Ray Barman', 'S Lamichhane', 'SM Curran',\n",
       "       'GC Viljoen', 'RD Chahar', 'M Prasidh Krishna', 'SD Lad',\n",
       "       'R Parag', 'JL Denly', 'LS Livingstone', 'KK Ahmed', 'AJ Turner',\n",
       "       'SE Rutherford', 'MJ Santner', 'P Simran Singh', 'JL Pattinson',\n",
       "       'D Padikkal', 'PK Garg', 'RD Gaikwad', 'YBK Jaiswal',\n",
       "       'JR Philippe', 'Ravi Bishnoi', 'Abdul Samad', 'I Udana',\n",
       "       'KL Nagarkoti', 'CV Varun', 'SS Cottrell', 'Arshdeep Singh',\n",
       "       'N Jagadeesan', 'T Banton', 'AT Carey', 'TU Deshpande', 'A Nortje',\n",
       "       'Kartik Tyagi', 'DR Sams', 'RM Patidar', 'KA Jamieson',\n",
       "       'Shahbaz Ahmed', 'M Jansen', 'JA Richardson', 'Lalit Yadav',\n",
       "       'M Shahrukh Khan', 'Virat Singh', 'FA Allen', 'C Sakariya',\n",
       "       'DJ Malan', 'Anmolpreet Singh', 'PWH de Silva', 'KS Bharat',\n",
       "       'VR Iyer', 'TH David', 'NT Ellis', 'AK Markram', 'Avesh Khan',\n",
       "       'TL Seifert', 'GHS Garton', 'RV Patel', 'GD Phillips',\n",
       "       'Anuj Rawat', 'DP Conway', 'RA Bawa', 'PBB Rajapaksa',\n",
       "       'Tilak Varma', 'R Powell', 'A Badoni', 'R Shepherd', 'DJ Willey',\n",
       "       'D Pretorius', 'Harpreet Brar', 'A Manohar', 'JM Sharma',\n",
       "       'OF Smith', 'D Brevis', 'B Sai Sudharsan', 'VG Arora',\n",
       "       'Ramandeep Singh', 'HE van der Dussen', 'PVD Chameera',\n",
       "       'Rasikh Salam', 'Akash Deep', 'SS Prabhudessai', 'Aman Hakim Khan',\n",
       "       'AS Joseph', 'HR Shokeen', 'LH Ferguson', 'Yash Dayal',\n",
       "       'DJ Mitchell', 'B Indrajith', 'Shashank Singh', 'Harshit Rana',\n",
       "       'AS Roy', 'Umran Malik', 'K Kartikeya', 'KS Sharma',\n",
       "       'Mohsin Khan (2)', 'T Stubbs', 'Mukesh Choudhary',\n",
       "       'Simarjeet Singh', 'M Theekshana', 'R Sanjay Yadav', 'A Tomar',\n",
       "       'OC McCoy'], dtype=object)"
      ]
     },
     "execution_count": 9,
     "metadata": {},
     "output_type": "execute_result"
    }
   ],
   "source": [
    "ipl_df['player_dismissed'].unique()"
   ]
  },
  {
   "cell_type": "code",
   "execution_count": 10,
   "id": "f762c7c7",
   "metadata": {},
   "outputs": [
    {
     "data": {
      "text/plain": [
       "(float, str)"
      ]
     },
     "execution_count": 10,
     "metadata": {},
     "output_type": "execute_result"
    }
   ],
   "source": [
    "type(ipl_df['player_dismissed'].unique()[0]), type(ipl_df['player_dismissed'].unique()[1])"
   ]
  },
  {
   "cell_type": "code",
   "execution_count": 11,
   "id": "024eba37",
   "metadata": {},
   "outputs": [],
   "source": [
    "# isOut[x] will be 1 if type(isOut[x]) matches type('str') which is a string\n",
    "ipl_df['isOut'] = ipl_df['player_dismissed'].apply(lambda x: 1 if type(x) == type('str') else 0)"
   ]
  },
  {
   "cell_type": "code",
   "execution_count": 12,
   "id": "cc93a561",
   "metadata": {},
   "outputs": [
    {
     "data": {
      "text/plain": [
       "array([0, 1], dtype=int64)"
      ]
     },
     "execution_count": 12,
     "metadata": {},
     "output_type": "execute_result"
    }
   ],
   "source": [
    "ipl_df['isOut'].unique()"
   ]
  },
  {
   "cell_type": "markdown",
   "id": "61cf20cc",
   "metadata": {},
   "source": [
    "# 4. Calculating outcome probabilities\n",
    "## 4.1 Choose teams"
   ]
  },
  {
   "cell_type": "code",
   "execution_count": 13,
   "id": "3b1094e6",
   "metadata": {},
   "outputs": [],
   "source": [
    "# t1 - bat first, t2 - bat second\n",
    "\n",
    "t1 = 'Punjab Kings'\n",
    "t2 = 'Delhi Capitals'"
   ]
  },
  {
   "cell_type": "markdown",
   "id": "30065efe",
   "metadata": {},
   "source": [
    "## 4.2 Outcomes"
   ]
  },
  {
   "cell_type": "code",
   "execution_count": 14,
   "id": "e1e83dd6",
   "metadata": {},
   "outputs": [
    {
     "data": {
      "text/plain": [
       "1    41.735537\n",
       "0    35.714286\n",
       "4    10.537190\n",
       "6    5.991736 \n",
       "2    5.637544 \n",
       "3    0.206612 \n",
       "5    0.177096 \n",
       "Name: total_runs, dtype: float64"
      ]
     },
     "execution_count": 14,
     "metadata": {},
     "output_type": "execute_result"
    }
   ],
   "source": [
    "100 * ipl_df[ipl_df.batting_team == t1].total_runs.value_counts(normalize = True)"
   ]
  },
  {
   "cell_type": "markdown",
   "id": "687dd705",
   "metadata": {},
   "source": [
    "5 and 7 each contribute to about 0.2% of the total runs scored by Punjab Kings. So, we shall ignore these in the outcomes."
   ]
  },
  {
   "cell_type": "code",
   "execution_count": 15,
   "id": "d61367a0",
   "metadata": {},
   "outputs": [],
   "source": [
    "outcomes = [0, 1, 2, 3, 4, 6, 'w']"
   ]
  },
  {
   "cell_type": "code",
   "execution_count": 16,
   "id": "f4472684",
   "metadata": {},
   "outputs": [],
   "source": [
    "t1_outcomes_count = ipl_df[ipl_df.batting_team == t1].total_runs.value_counts()\n",
    "t2_outcomes_count = ipl_df[ipl_df.batting_team == t2].total_runs.value_counts()"
   ]
  },
  {
   "cell_type": "code",
   "execution_count": 17,
   "id": "92e06bf1",
   "metadata": {},
   "outputs": [],
   "source": [
    "t1_outs = ipl_df[ipl_df.batting_team == t1].isOut.sum()\n",
    "t2_outs = ipl_df[ipl_df.batting_team == t2].isOut.sum()"
   ]
  },
  {
   "cell_type": "code",
   "execution_count": 18,
   "id": "b0377ae9",
   "metadata": {},
   "outputs": [
    {
     "name": "stdout",
     "output_type": "stream",
     "text": [
      "0\n",
      "1\n",
      "2\n",
      "3\n",
      "4\n",
      "6\n",
      "w\n"
     ]
    }
   ],
   "source": [
    "for outcome in outcomes:\n",
    "    print(outcome)"
   ]
  },
  {
   "cell_type": "code",
   "execution_count": 19,
   "id": "5e4b27ef",
   "metadata": {},
   "outputs": [
    {
     "data": {
      "text/plain": [
       "1    1414\n",
       "0    1210\n",
       "4    357 \n",
       "6    203 \n",
       "2    191 \n",
       "3    7   \n",
       "5    6   \n",
       "Name: total_runs, dtype: int64"
      ]
     },
     "execution_count": 19,
     "metadata": {},
     "output_type": "execute_result"
    }
   ],
   "source": [
    "t1_outcomes_count"
   ]
  },
  {
   "cell_type": "code",
   "execution_count": 20,
   "id": "59edc3da",
   "metadata": {},
   "outputs": [
    {
     "data": {
      "text/plain": [
       "180"
      ]
     },
     "execution_count": 20,
     "metadata": {},
     "output_type": "execute_result"
    }
   ],
   "source": [
    "# Total no. of wickets lost\n",
    "t1_outs"
   ]
  },
  {
   "cell_type": "code",
   "execution_count": 21,
   "id": "8db77d11",
   "metadata": {},
   "outputs": [],
   "source": [
    "t1_outcomes = []\n",
    "t2_outcomes = []\n",
    "\n",
    "for outcome in outcomes:\n",
    "    if outcome != 'w':\n",
    "        t1_outcomes.append(t1_outcomes_count[outcome])\n",
    "        t2_outcomes.append(t2_outcomes_count[outcome])\n",
    "    else:\n",
    "        t1_outcomes.append(t1_outs)\n",
    "        t2_outcomes.append(t2_outs)"
   ]
  },
  {
   "cell_type": "code",
   "execution_count": 22,
   "id": "2410bcf8",
   "metadata": {},
   "outputs": [
    {
     "data": {
      "text/plain": [
       "([1210, 1414, 191, 7, 357, 203, 180], [2516, 3277, 477, 23, 921, 346, 371])"
      ]
     },
     "execution_count": 22,
     "metadata": {},
     "output_type": "execute_result"
    }
   ],
   "source": [
    "t1_outcomes, t2_outcomes"
   ]
  },
  {
   "cell_type": "markdown",
   "id": "068e6399",
   "metadata": {},
   "source": [
    "## 4.3 Probability of outcomes"
   ]
  },
  {
   "cell_type": "code",
   "execution_count": 23,
   "id": "70fa1592",
   "metadata": {},
   "outputs": [],
   "source": [
    "t1_pb_outcomes = [i/sum(t1_outcomes) for i in t1_outcomes]\n",
    "t2_pb_outcomes = [i/sum(t2_outcomes) for i in t2_outcomes]"
   ]
  },
  {
   "cell_type": "code",
   "execution_count": 24,
   "id": "f9a086d1",
   "metadata": {},
   "outputs": [
    {
     "data": {
      "text/plain": [
       "[0.33969679955081417,\n",
       " 0.3969679955081415,\n",
       " 0.05362156092083099,\n",
       " 0.0019651880965749578,\n",
       " 0.10022459292532285,\n",
       " 0.05699045480067378,\n",
       " 0.05053340819764177]"
      ]
     },
     "execution_count": 24,
     "metadata": {},
     "output_type": "execute_result"
    }
   ],
   "source": [
    "t1_pb_outcomes"
   ]
  },
  {
   "cell_type": "code",
   "execution_count": 25,
   "id": "57ed3dfc",
   "metadata": {},
   "outputs": [],
   "source": [
    "t1_pb_ls = np.cumsum(t1_pb_outcomes)\n",
    "t2_pb_ls = np.cumsum(t2_pb_outcomes)"
   ]
  },
  {
   "cell_type": "code",
   "execution_count": 26,
   "id": "e665d9bd",
   "metadata": {},
   "outputs": [
    {
     "data": {
      "text/plain": [
       "(array([0.3396968 , 0.7366648 , 0.79028636, 0.79225154, 0.89247614,\n",
       "        0.94946659, 1.        ]),\n",
       " array([0.31723616, 0.73042491, 0.79056865, 0.79346867, 0.90959526,\n",
       "        0.95322154, 1.        ]))"
      ]
     },
     "execution_count": 26,
     "metadata": {},
     "output_type": "execute_result"
    }
   ],
   "source": [
    "t1_pb_ls, t2_pb_ls"
   ]
  },
  {
   "cell_type": "markdown",
   "id": "d39eb663",
   "metadata": {},
   "source": [
    "## 4.4 Using probability values"
   ]
  },
  {
   "cell_type": "code",
   "execution_count": 27,
   "id": "bfebd985",
   "metadata": {},
   "outputs": [],
   "source": [
    "def get_pbvalues(teamName):\n",
    "    if teamName == 'PBKS':\n",
    "        p_0 = 0.33970\n",
    "        p_1 = 0.73666\n",
    "        p_2 = 0.79029\n",
    "        p_3 = 0.79225\n",
    "        p_4 = 0.89248\n",
    "        p_6 = 0.94947\n",
    "        p_w = 1\n",
    "    \n",
    "    elif teamName == 'DC':\n",
    "        p_0 = 0.31724\n",
    "        p_1 = 0.73042\n",
    "        p_2 = 0.79057\n",
    "        p_3 = 0.79347\n",
    "        p_4 = 0.90960\n",
    "        p_6 = 0.95322\n",
    "        p_w = 1\n",
    "\n",
    "    return p_0, p_1, p_2, p_3, p_4, p_6, p_w"
   ]
  },
  {
   "cell_type": "markdown",
   "id": "e993722d",
   "metadata": {},
   "source": [
    "# 5. Runs prediction model for chasing team"
   ]
  },
  {
   "cell_type": "code",
   "execution_count": 28,
   "id": "79564cf1",
   "metadata": {},
   "outputs": [],
   "source": [
    "# current_overs is an integer\n",
    "def predict_runs(target, current_score, current_wickets, current_overs):\n",
    "\n",
    "    # pb values of both teams\n",
    "    i1p_0, i1p_1, i1p_2, i1p_3, i1p_4, i1p_6, i1p_w = get_pbvalues('PBKS')\n",
    "    i2p_0, i2p_1, i2p_2, i2p_3, i2p_4, i2p_6, i2p_w = get_pbvalues('DC')\n",
    "\n",
    "    pred_runs = current_score\n",
    "    pred_wks = current_wickets\n",
    "    leftover_balls = 120 - current_overs*6\n",
    "\n",
    "    for i in range(leftover_balls):\n",
    "        r_value = np.random.random()\n",
    "\n",
    "        if r_value <= i2p_0:\n",
    "            pred_runs += 0\n",
    "        elif r_value <= i2p_1:\n",
    "            pred_runs += 1\n",
    "        elif r_value <= i2p_2:\n",
    "            pred_runs += 2\n",
    "        elif r_value <= i2p_3:\n",
    "            pred_runs += 3\n",
    "        elif r_value <= i2p_4:\n",
    "            pred_runs += 4\n",
    "        elif r_value <= i2p_6:\n",
    "            pred_runs += 6\n",
    "        else:\n",
    "            pred_runs += 0\n",
    "            pred_wks += 1\n",
    "            if pred_wks == 10:\n",
    "                break\n",
    "        if pred_runs > target:\n",
    "            break\n",
    "        # print('pred_runs: ', pred_runs)\n",
    "        # print('pred_wks: ', pred_wks)\n",
    "    \n",
    "    return pred_runs"
   ]
  },
  {
   "cell_type": "code",
   "execution_count": 29,
   "id": "ab07a76b",
   "metadata": {},
   "outputs": [
    {
     "data": {
      "text/plain": [
       "171"
      ]
     },
     "execution_count": 29,
     "metadata": {},
     "output_type": "execute_result"
    }
   ],
   "source": [
    "# predict_runs(target, current_score, current_wickets, current_overs)\n",
    "predict_runs(167, 0, 0, 0)"
   ]
  },
  {
   "cell_type": "markdown",
   "id": "8236122e",
   "metadata": {},
   "source": [
    "# 6. Winner function"
   ]
  },
  {
   "cell_type": "code",
   "execution_count": 30,
   "id": "b0eb00ef",
   "metadata": {},
   "outputs": [],
   "source": [
    "def get_win(pred_runs, target):\n",
    "    if pred_runs > target:\n",
    "        return 'win'\n",
    "    elif pred_runs == target:\n",
    "        return 'tie'\n",
    "    else:\n",
    "        return 'lose'"
   ]
  },
  {
   "cell_type": "code",
   "execution_count": 31,
   "id": "6ddcddd9",
   "metadata": {},
   "outputs": [],
   "source": [
    "# runs, wickets, overs, \n",
    "# win - 1st ing score\n",
    "\n",
    "# PBKS - 166/6\n",
    "\n",
    "target = 167\n",
    "\n",
    "current_score   = 87\n",
    "current_wickets = 1\n",
    "current_overs   = 10\n",
    "\n",
    "iter_count = 100\n",
    "\n",
    "runs_ls    = []\n",
    "results_ls = []\n",
    "\n",
    "win_count  = 0\n",
    "tie_count  = 0\n",
    "lose_count = 0\n",
    "\n",
    "for i in range(iter_count):\n",
    "    pred_runs = predict_runs(target, current_score, current_wickets, current_overs)\n",
    "    runs_ls.append(pred_runs)\n",
    "    result_pred = get_win(pred_runs, target)\n",
    "    results_ls.append(result_pred)\n",
    "\n",
    "    if result_pred == 'win':\n",
    "        win_count += 1\n",
    "    elif result_pred == 'tie':\n",
    "        tie_count += 1\n",
    "    else:\n",
    "        lose_count +=1"
   ]
  },
  {
   "cell_type": "code",
   "execution_count": 32,
   "id": "8a301847",
   "metadata": {},
   "outputs": [
    {
     "data": {
      "text/plain": [
       "(42, 2, 56)"
      ]
     },
     "execution_count": 32,
     "metadata": {},
     "output_type": "execute_result"
    }
   ],
   "source": [
    "win_count, tie_count, lose_count"
   ]
  },
  {
   "cell_type": "markdown",
   "id": "e7b9a6b1",
   "metadata": {},
   "source": [
    "# 7. Finding runs at a given stage"
   ]
  },
  {
   "cell_type": "code",
   "execution_count": 33,
   "id": "69734aa8",
   "metadata": {},
   "outputs": [],
   "source": [
    "def find_runs(current_score, target, current_wickets, at_overs):\n",
    "    runs_ls = []\n",
    "    results_ls = []\n",
    "\n",
    "    req_runs = []\n",
    "    win_ls = []\n",
    "\n",
    "    for i in range(current_score, target + 1):\n",
    "        win_count = 0\n",
    "        tie_count = 0\n",
    "        lose_count = 0\n",
    "\n",
    "        for j in range(100):\n",
    "            pred_runs = predict_runs(target, i, current_wickets, at_overs)\n",
    "            runs_ls.append(pred_runs)\n",
    "            result_pred = get_win(pred_runs, target)\n",
    "            results_ls.append(result_pred)\n",
    "\n",
    "            if result_pred == 'win':\n",
    "                win_count += 1\n",
    "            elif result_pred == 'tie':\n",
    "                tie_count += 1\n",
    "            else:\n",
    "                lose_count +=1\n",
    "\n",
    "            win_ls.append(win_count)\n",
    "            req_runs.append(i)\n",
    "            # print('runs: ', i, ' win%: ', win_count)\n",
    "\n",
    "    required_runs = current_score\n",
    "    for i in range(len(req_runs)):\n",
    "        if win_ls[i] > 50:\n",
    "            required_runs = req_runs[i]\n",
    "            # print('Runs to be: ', req_runs[i])\n",
    "            break\n",
    "\n",
    "    return required_runs"
   ]
  },
  {
   "cell_type": "code",
   "execution_count": 34,
   "id": "a046831d",
   "metadata": {},
   "outputs": [
    {
     "data": {
      "text/plain": [
       "100"
      ]
     },
     "execution_count": 34,
     "metadata": {},
     "output_type": "execute_result"
    }
   ],
   "source": [
    "# find_runs(current_score, target, current_wickets, at_overs)\n",
    "score_needed = find_runs(87, 167, 1, 11)\n",
    "score_needed"
   ]
  },
  {
   "cell_type": "code",
   "execution_count": 35,
   "id": "5470d2d2",
   "metadata": {},
   "outputs": [
    {
     "name": "stdout",
     "output_type": "stream",
     "text": [
      "This means that the team should score 100 runs after 11 overs to have a win % of greater than 50.\n"
     ]
    }
   ],
   "source": [
    "print(f'This means that the team should score {score_needed} runs after 11 overs to have a win % of greater than 50.')"
   ]
  },
  {
   "cell_type": "markdown",
   "id": "f5c71a21",
   "metadata": {},
   "source": [
    "# 8. Finding no. of wickets the chasing team can afford to lose"
   ]
  },
  {
   "cell_type": "code",
   "execution_count": 36,
   "id": "135560e4",
   "metadata": {},
   "outputs": [],
   "source": [
    "def find_wickets(current_score, target, current_wickets, at_overs):\n",
    "    req_runs = find_runs(current_score, target, current_wickets, at_overs)\n",
    "\n",
    "    runs_ls = []\n",
    "    results_ls = []\n",
    "\n",
    "    req_wks = []\n",
    "    win_ls = []\n",
    "\n",
    "    for i in range(current_wickets, 10):\n",
    "        win_count = 0\n",
    "        tie_count = 0\n",
    "        lose_count = 0\n",
    "\n",
    "        for j in range(100):\n",
    "            # pred_runs = predict_runs(target, req_runs, i, at_overs)\n",
    "            pred_runs = predict_runs(target, current_score, i, at_overs)\n",
    "            runs_ls.append(pred_runs)\n",
    "            result_pred = get_win(pred_runs, target)\n",
    "            results_ls.append(result_pred)\n",
    "\n",
    "            if result_pred == 'win':\n",
    "                win_count += 1\n",
    "            elif result_pred == 'tie':\n",
    "                tie_count += 1\n",
    "            else:\n",
    "                lose_count +=1\n",
    "\n",
    "        win_ls.append(win_count)\n",
    "        req_wks.append(i)\n",
    "        # print('wickets: ', i, ' win%: ', win_count)\n",
    "\n",
    "    req_wicket_value = current_wickets\n",
    "    \n",
    "    for i in range(len(req_wks)):\n",
    "        if (win_ls[i] < 50)  :\n",
    "            req_wicket_value = req_wks[i]\n",
    "            break\n",
    "\n",
    "    return req_wicket_value"
   ]
  },
  {
   "cell_type": "code",
   "execution_count": 37,
   "id": "d2a83c0a",
   "metadata": {},
   "outputs": [
    {
     "data": {
      "text/plain": [
       "1"
      ]
     },
     "execution_count": 37,
     "metadata": {},
     "output_type": "execute_result"
    }
   ],
   "source": [
    "# find_wickets(current_score, target, current_wickets, at_overs)\n",
    "wickets_to_lose = find_wickets(87, 167, 1, 11)\n",
    "wickets_to_lose"
   ]
  },
  {
   "cell_type": "code",
   "execution_count": 38,
   "id": "671510f3",
   "metadata": {},
   "outputs": [
    {
     "name": "stdout",
     "output_type": "stream",
     "text": [
      "This means that the team can lose total 1 wickets after 11 overs to have a win % of greater than 50.\n"
     ]
    }
   ],
   "source": [
    "print(f'This means that the team can lose total {wickets_to_lose} wickets after 11 overs to have a win % of greater than 50.')"
   ]
  },
  {
   "cell_type": "markdown",
   "id": "350d8f38",
   "metadata": {},
   "source": [
    "# 9. Interactive Chart"
   ]
  },
  {
   "cell_type": "code",
   "execution_count": 39,
   "id": "ede6ded8",
   "metadata": {},
   "outputs": [],
   "source": [
    "def find_runs_wickets(current_wks, at_overs, target_score):\n",
    "    plt.figure(figsize = (16, 6))\n",
    "    \n",
    "    # x = np.linspace(-10, 10, num=1000)\n",
    "    x = np.array(list(range(21)))\n",
    "    \n",
    "    req_value = find_runs(87, target_score, current_wks, at_overs)\n",
    "    req_wk_value = find_wickets(87, target_score, current_wks, at_overs)\n",
    "\n",
    "    if at_overs == 10:\n",
    "        req_value = 87\n",
    "        req_wk_value = 1\n",
    "\n",
    "    # print(req_value)\n",
    "    y = np.array([req_value for i in range(21)])\n",
    "\n",
    "    # plt.plot(x, current_overs * x + target_score)\n",
    "    # plt.plot(x, y)\n",
    "    plt.scatter(at_overs, req_value, s = 1200, color = 'red')\n",
    "    plt.axhline(target_score, ls = '--', color = 'blue')\n",
    "    plt.text(1, target_score + 10, 'Target Score :' + str(target_score) , color = 'darkblue', fontsize = 13)\n",
    "    \n",
    "    plt.text(\n",
    "        at_overs,\n",
    "        req_value,\n",
    "        str(req_value) + '/' + str(req_wk_value),\n",
    "        color = 'white',\n",
    "        fontsize = 12,\n",
    "        horizontalalignment = 'center',\n",
    "        verticalalignment = 'center'\n",
    "    )\n",
    "    \n",
    "    plt.text(\n",
    "        at_overs,\n",
    "        req_value - 30,\n",
    "        'DC has to be at ' + str(req_value) + '/' + str(req_wk_value) + ' after ' + str(at_overs) + ' ov',\n",
    "        horizontalalignment = 'center'\n",
    "    )\n",
    "    \n",
    "    plt.ylim(50, target_score + 50)\n",
    "    plt.xticks(x)\n",
    "    plt.title('Where should DC be?', fontsize = 20)\n",
    "    plt.xlabel('Overs')\n",
    "    plt.ylabel('Score')\n",
    "    plt.show()"
   ]
  },
  {
   "cell_type": "code",
   "execution_count": 40,
   "id": "d91c815d",
   "metadata": {},
   "outputs": [
    {
     "name": "stdout",
     "output_type": "stream",
     "text": [
      "current_score = DC: 87/1 (10 overs)\n",
      "\n"
     ]
    },
    {
     "data": {
      "application/vnd.jupyter.widget-view+json": {
       "model_id": "3f1e36f9ad9d46cc8a1929268056cac9",
       "version_major": 2,
       "version_minor": 0
      },
      "text/plain": [
       "interactive(children=(IntSlider(value=1, description='current_wks', max=10, min=1), IntSlider(value=10, descri…"
      ]
     },
     "metadata": {},
     "output_type": "display_data"
    }
   ],
   "source": [
    "print('current_score = DC: 87/1 (10 overs)')\n",
    "print('')\n",
    "\n",
    "interactive_plot = interactive(\n",
    "    find_runs_wickets,\n",
    "    current_wks = widgets.IntSlider(min = 1, max = 10, step = 1, value = 1),\n",
    "    at_overs = widgets.IntSlider(min = 10, max = 20, step = 1, value = 10),\n",
    "    target_score = widgets.IntSlider(min = 0, max = 250, step = 1, value = 167)\n",
    ")\n",
    "\n",
    "output = interactive_plot.children[-1]\n",
    "output.layout.height = '450px'\n",
    "\n",
    "interactive_plot"
   ]
  },
  {
   "cell_type": "code",
   "execution_count": null,
   "id": "6e207477",
   "metadata": {},
   "outputs": [],
   "source": []
  }
 ],
 "metadata": {
  "kernelspec": {
   "display_name": "Python 3",
   "language": "python",
   "name": "python3"
  },
  "language_info": {
   "codemirror_mode": {
    "name": "ipython",
    "version": 3
   },
   "file_extension": ".py",
   "mimetype": "text/x-python",
   "name": "python",
   "nbconvert_exporter": "python",
   "pygments_lexer": "ipython3",
   "version": "3.8.8"
  }
 },
 "nbformat": 4,
 "nbformat_minor": 5
}
